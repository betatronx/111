{
  "nbformat": 4,
  "nbformat_minor": 0,
  "metadata": {
    "colab": {
      "name": "Untitled1.ipynb",
      "provenance": [],
      "include_colab_link": true
    },
    "kernelspec": {
      "name": "python3",
      "display_name": "Python 3"
    },
    "accelerator": "GPU"
  },
  "cells": [
    {
      "cell_type": "markdown",
      "metadata": {
        "id": "view-in-github",
        "colab_type": "text"
      },
      "source": [
        "<a href=\"https://colab.research.google.com/github/betatronx/111/blob/master/%20get_items.ipynb\" target=\"_parent\"><img src=\"https://colab.research.google.com/assets/colab-badge.svg\" alt=\"Open In Colab\"/></a>"
      ]
    },
    {
      "cell_type": "code",
      "metadata": {
        "id": "4xkqC1g55UzR",
        "colab_type": "code",
        "outputId": "f3ff711f-9395-45ea-ce95-7d8cc870c0e0",
        "colab": {
          "base_uri": "https://localhost:8080/",
          "height": 127
        }
      },
      "source": [
        "from google.colab import auth\n",
        "auth.authenticate_user()\n",
        "\n",
        "from google.colab import drive\n",
        "drive.mount('/content/gdrive')"
      ],
      "execution_count": 1,
      "outputs": [
        {
          "output_type": "stream",
          "text": [
            "Go to this URL in a browser: https://accounts.google.com/o/oauth2/auth?client_id=947318989803-6bn6qk8qdgf4n4g3pfee6491hc0brc4i.apps.googleusercontent.com&redirect_uri=urn%3aietf%3awg%3aoauth%3a2.0%3aoob&response_type=code&scope=email%20https%3a%2f%2fwww.googleapis.com%2fauth%2fdocs.test%20https%3a%2f%2fwww.googleapis.com%2fauth%2fdrive%20https%3a%2f%2fwww.googleapis.com%2fauth%2fdrive.photos.readonly%20https%3a%2f%2fwww.googleapis.com%2fauth%2fpeopleapi.readonly\n",
            "\n",
            "Enter your authorization code:\n",
            "··········\n",
            "Mounted at /content/gdrive\n"
          ],
          "name": "stdout"
        }
      ]
    },
    {
      "cell_type": "code",
      "metadata": {
        "id": "5gODaiSd8Gbp",
        "colab_type": "code",
        "outputId": "bfc8e9c4-4dac-4024-963c-2bc7736ebb97",
        "colab": {
          "base_uri": "https://localhost:8080/",
          "height": 1000
        }
      },
      "source": [
        "# install chromium, its driver, and selenium\n",
        "!apt-get update\n",
        "!apt install chromium-chromedriver\n",
        "!cp /usr/lib/chromium-browser/chromedriver /usr/bin\n",
        "!pip install selenium\n",
        "# set options to be headless, ..\n",
        "from selenium import webdriver\n",
        "options = webdriver.ChromeOptions()\n",
        "options.add_argument('--headless')\n",
        "options.add_argument('--no-sandbox')\n",
        "options.add_argument('--disable-dev-shm-usage')\n",
        "# open it, go to a website, and get results\n",
        "driver = webdriver.Chrome('chromedriver',options=options)"
      ],
      "execution_count": 2,
      "outputs": [
        {
          "output_type": "stream",
          "text": [
            "\r0% [Working]\r            \rGet:1 https://cloud.r-project.org/bin/linux/ubuntu bionic-cran35/ InRelease [3,626 B]\n",
            "\r0% [Connecting to archive.ubuntu.com] [Connecting to security.ubuntu.com (91.18\r0% [Connecting to archive.ubuntu.com] [Connecting to security.ubuntu.com (91.18\r0% [1 InRelease gpgv 3,626 B] [Connecting to archive.ubuntu.com] [Connecting to\r                                                                               \rIgn:2 https://developer.download.nvidia.com/compute/cuda/repos/ubuntu1804/x86_64  InRelease\n",
            "\r0% [1 InRelease gpgv 3,626 B] [Connecting to archive.ubuntu.com] [Connecting to\r0% [Connecting to archive.ubuntu.com (91.189.88.173)] [Waiting for headers] [Wa\r                                                                               \rIgn:3 https://developer.download.nvidia.com/compute/machine-learning/repos/ubuntu1804/x86_64  InRelease\n",
            "\r0% [Connecting to archive.ubuntu.com (91.189.88.173)] [Waiting for headers] [Wa\r                                                                               \rHit:4 https://developer.download.nvidia.com/compute/cuda/repos/ubuntu1804/x86_64  Release\n",
            "\r0% [Connecting to archive.ubuntu.com (91.189.88.173)] [Waiting for headers] [Wa\r0% [Release.gpg gpgv 564 B] [Connecting to archive.ubuntu.com (91.189.88.173)] \r                                                                               \rHit:5 https://developer.download.nvidia.com/compute/machine-learning/repos/ubuntu1804/x86_64  Release\n",
            "\r0% [Release.gpg gpgv 564 B] [Connecting to archive.ubuntu.com (91.189.88.173)] \r                                                                               \rHit:6 http://ppa.launchpad.net/graphics-drivers/ppa/ubuntu bionic InRelease\n",
            "Get:7 http://security.ubuntu.com/ubuntu bionic-security InRelease [88.7 kB]\n",
            "Hit:9 http://archive.ubuntu.com/ubuntu bionic InRelease\n",
            "Get:11 http://ppa.launchpad.net/marutter/c2d4u3.5/ubuntu bionic InRelease [15.4 kB]\n",
            "Get:12 http://archive.ubuntu.com/ubuntu bionic-updates InRelease [88.7 kB]\n",
            "Get:13 http://security.ubuntu.com/ubuntu bionic-security/universe amd64 Packages [789 kB]\n",
            "Get:14 http://archive.ubuntu.com/ubuntu bionic-backports InRelease [74.6 kB]\n",
            "Get:15 http://ppa.launchpad.net/marutter/c2d4u3.5/ubuntu bionic/main Sources [1,741 kB]\n",
            "Get:16 http://archive.ubuntu.com/ubuntu bionic-updates/restricted amd64 Packages [29.9 kB]\n",
            "Get:17 http://archive.ubuntu.com/ubuntu bionic-updates/multiverse amd64 Packages [9,549 B]\n",
            "Get:18 http://archive.ubuntu.com/ubuntu bionic-updates/universe amd64 Packages [1,316 kB]\n",
            "Get:19 http://security.ubuntu.com/ubuntu bionic-security/main amd64 Packages [739 kB]\n",
            "Get:20 http://archive.ubuntu.com/ubuntu bionic-updates/main amd64 Packages [1,035 kB]\n",
            "Get:21 http://ppa.launchpad.net/marutter/c2d4u3.5/ubuntu bionic/main amd64 Packages [840 kB]\n",
            "Fetched 6,771 kB in 6s (1,147 kB/s)\n",
            "Reading package lists... Done\n",
            "Reading package lists... Done\n",
            "Building dependency tree       \n",
            "Reading state information... Done\n",
            "The following package was automatically installed and is no longer required:\n",
            "  libnvidia-common-430\n",
            "Use 'apt autoremove' to remove it.\n",
            "The following additional packages will be installed:\n",
            "  chromium-browser chromium-browser-l10n chromium-codecs-ffmpeg-extra\n",
            "Suggested packages:\n",
            "  webaccounts-chromium-extension unity-chromium-extension adobe-flashplugin\n",
            "The following NEW packages will be installed:\n",
            "  chromium-browser chromium-browser-l10n chromium-chromedriver\n",
            "  chromium-codecs-ffmpeg-extra\n",
            "0 upgraded, 4 newly installed, 0 to remove and 71 not upgraded.\n",
            "Need to get 71.9 MB of archives.\n",
            "After this operation, 257 MB of additional disk space will be used.\n",
            "Get:1 http://archive.ubuntu.com/ubuntu bionic-updates/universe amd64 chromium-codecs-ffmpeg-extra amd64 78.0.3904.108-0ubuntu0.18.04.1 [1,078 kB]\n",
            "Get:2 http://archive.ubuntu.com/ubuntu bionic-updates/universe amd64 chromium-browser amd64 78.0.3904.108-0ubuntu0.18.04.1 [63.3 MB]\n",
            "Get:3 http://archive.ubuntu.com/ubuntu bionic-updates/universe amd64 chromium-browser-l10n all 78.0.3904.108-0ubuntu0.18.04.1 [3,076 kB]\n",
            "Get:4 http://archive.ubuntu.com/ubuntu bionic-updates/universe amd64 chromium-chromedriver amd64 78.0.3904.108-0ubuntu0.18.04.1 [4,466 kB]\n",
            "Fetched 71.9 MB in 9s (7,892 kB/s)\n",
            "Selecting previously unselected package chromium-codecs-ffmpeg-extra.\n",
            "(Reading database ... 145605 files and directories currently installed.)\n",
            "Preparing to unpack .../chromium-codecs-ffmpeg-extra_78.0.3904.108-0ubuntu0.18.04.1_amd64.deb ...\n",
            "Unpacking chromium-codecs-ffmpeg-extra (78.0.3904.108-0ubuntu0.18.04.1) ...\n",
            "Selecting previously unselected package chromium-browser.\n",
            "Preparing to unpack .../chromium-browser_78.0.3904.108-0ubuntu0.18.04.1_amd64.deb ...\n",
            "Unpacking chromium-browser (78.0.3904.108-0ubuntu0.18.04.1) ...\n",
            "Selecting previously unselected package chromium-browser-l10n.\n",
            "Preparing to unpack .../chromium-browser-l10n_78.0.3904.108-0ubuntu0.18.04.1_all.deb ...\n",
            "Unpacking chromium-browser-l10n (78.0.3904.108-0ubuntu0.18.04.1) ...\n",
            "Selecting previously unselected package chromium-chromedriver.\n",
            "Preparing to unpack .../chromium-chromedriver_78.0.3904.108-0ubuntu0.18.04.1_amd64.deb ...\n",
            "Unpacking chromium-chromedriver (78.0.3904.108-0ubuntu0.18.04.1) ...\n",
            "Processing triggers for mime-support (3.60ubuntu1) ...\n",
            "Setting up chromium-codecs-ffmpeg-extra (78.0.3904.108-0ubuntu0.18.04.1) ...\n",
            "Processing triggers for man-db (2.8.3-2ubuntu0.1) ...\n",
            "Processing triggers for hicolor-icon-theme (0.17-2) ...\n",
            "Setting up chromium-browser (78.0.3904.108-0ubuntu0.18.04.1) ...\n",
            "update-alternatives: using /usr/bin/chromium-browser to provide /usr/bin/x-www-browser (x-www-browser) in auto mode\n",
            "update-alternatives: using /usr/bin/chromium-browser to provide /usr/bin/gnome-www-browser (gnome-www-browser) in auto mode\n",
            "Setting up chromium-chromedriver (78.0.3904.108-0ubuntu0.18.04.1) ...\n",
            "Setting up chromium-browser-l10n (78.0.3904.108-0ubuntu0.18.04.1) ...\n",
            "cp: '/usr/lib/chromium-browser/chromedriver' and '/usr/bin/chromedriver' are the same file\n",
            "Collecting selenium\n",
            "\u001b[?25l  Downloading https://files.pythonhosted.org/packages/80/d6/4294f0b4bce4de0abf13e17190289f9d0613b0a44e5dd6a7f5ca98459853/selenium-3.141.0-py2.py3-none-any.whl (904kB)\n",
            "\u001b[K     |████████████████████████████████| 911kB 2.7MB/s \n",
            "\u001b[?25hRequirement already satisfied: urllib3 in /usr/local/lib/python3.6/dist-packages (from selenium) (1.24.3)\n",
            "Installing collected packages: selenium\n",
            "Successfully installed selenium-3.141.0\n"
          ],
          "name": "stdout"
        }
      ]
    },
    {
      "cell_type": "code",
      "metadata": {
        "id": "vjsy-uWOStq8",
        "colab_type": "code",
        "colab": {}
      },
      "source": [
        "from selenium import webdriver\n",
        "from selenium.webdriver.common.keys import Keys\n",
        "import time\n",
        "from bs4 import BeautifulSoup \n",
        "import urllib\n",
        "import json\n",
        "import datetime\n",
        "import requests\n",
        "import pandas as pd\n",
        "import numpy as np\n",
        "import _pickle as pickle"
      ],
      "execution_count": 0,
      "outputs": []
    },
    {
      "cell_type": "markdown",
      "metadata": {
        "id": "Xio06cTjPTp1",
        "colab_type": "text"
      },
      "source": [
        "selenium  colab  에서 사용하기 \n"
      ]
    },
    {
      "cell_type": "code",
      "metadata": {
        "id": "COuIdktYLMxH",
        "colab_type": "code",
        "outputId": "048618d9-90fb-482b-e636-3acf71dac7eb",
        "colab": {
          "base_uri": "https://localhost:8080/",
          "height": 53
        }
      },
      "source": [
        "driver.get('http://market.iriminds.com/login')\n",
        "print (driver.current_url)\n",
        "print (driver.title)\n",
        "driver.implicitly_wait(3)"
      ],
      "execution_count": 4,
      "outputs": [
        {
          "output_type": "stream",
          "text": [
            "http://market.iriminds.com/login\n",
            "\n"
          ],
          "name": "stdout"
        }
      ]
    },
    {
      "cell_type": "code",
      "metadata": {
        "id": "kV3iwTn53gns",
        "colab_type": "code",
        "colab": {}
      },
      "source": [
        "driver.find_element_by_name('email').send_keys('honyo2424@naver.com')\n",
        "driver.find_element_by_name('password').send_keys('dawning01')\n",
        "# 로그인 버튼을 눌러주자.\n",
        "driver.find_element_by_xpath('/html/body/div/div/div/div/div[2]/div/div/form/div[4]/button').click()\n",
        "driver.find_element_by_xpath('//*[@id=\"nav-warpper\"]/div[2]/div/div/ul[1]/li[3]/a').click()"
      ],
      "execution_count": 0,
      "outputs": []
    },
    {
      "cell_type": "code",
      "metadata": {
        "colab_type": "code",
        "id": "WiiVrPzaRgl8",
        "colab": {}
      },
      "source": [
        "driver.get('http://market.iriminds.com/api/v1/marketmap/KOSDAQ')\n",
        "html = driver.page_source\n",
        "soup = BeautifulSoup(html, 'html.parser')"
      ],
      "execution_count": 0,
      "outputs": []
    },
    {
      "cell_type": "code",
      "metadata": {
        "id": "lNECYcm43OdB",
        "colab_type": "code",
        "colab": {}
      },
      "source": [
        "driver.get('http://market.iriminds.com/api/v1/marketmap/KOSDAQ')\n",
        "# 최초 발견한 태그만 검색\n",
        "title = driver.find_element_by_tag_name('pre')"
      ],
      "execution_count": 0,
      "outputs": []
    },
    {
      "cell_type": "code",
      "metadata": {
        "id": "lwJJjik2Rrpq",
        "colab_type": "code",
        "colab": {}
      },
      "source": [
        "custom_header = {\n",
        "    'referer' : 'http://market.iriminds.com/popup/usermarketmap',\n",
        "    'user-agent' : 'Mozilla/5.0 (Windows NT 10.0; Win64; x64) AppleWebKit/537.36 (KHTML, like Gecko) Chrome/78.0.3904.108 Safari/537.36'  }\n",
        "\n",
        "base_ur1 = \"http://market.iriminds.com/api/v1/marketmap/KOSPI\"\n",
        "base_ur2 = \"http://market.iriminds.com/api/v1/marketmap/KOSPI?skip={}\"\n"
      ],
      "execution_count": 0,
      "outputs": []
    },
    {
      "cell_type": "code",
      "metadata": {
        "id": "ajDaH-okRvYj",
        "colab_type": "code",
        "colab": {}
      },
      "source": [
        "KOSPI_list=[]\n",
        "\n",
        "for n in range (8):\n",
        "    if n == 0 :\n",
        "        url= base_ur1\n",
        "        req = requests.get(url, headers = custom_header)\n",
        "        data = json.loads(req.text)\n",
        "        df = pd.DataFrame.from_dict(data, orient='columns')\n",
        "        list1=df['signal'].tolist()\n",
        "        df2 = pd.DataFrame.from_dict(list1, orient='columns')\n",
        "        new_df=pd.concat([df,df2], axis=1)\n",
        "        code_data=new_df.loc[:, ['code','name','forecast']]\n",
        "        KOSPI_list.append(code_data)\n",
        "        \n",
        "        \n",
        "        \n",
        "    else:    \n",
        "        url = base_ur2.format(100*n)\n",
        "        req = requests.get(url, headers = custom_header)\n",
        "        data = json.loads(req.text)\n",
        "        df = pd.DataFrame.from_dict(data, orient='columns')\n",
        "        list1=df['signal'].tolist()\n",
        "        df2 = pd.DataFrame.from_dict(list1, orient='columns')\n",
        "        new_df=pd.concat([df,df2], axis=1)\n",
        "        code_data=new_df.loc[:, ['code','name','forecast']]\n",
        "        KOSPI_list.append(code_data)\n",
        "\n",
        "KOSPI_data = pd.concat(KOSPI_list)\n",
        "KOSPI_data = KOSPI_data.reset_index(drop=True)"
      ],
      "execution_count": 0,
      "outputs": []
    },
    {
      "cell_type": "code",
      "metadata": {
        "id": "7r8CFGU3RzU3",
        "colab_type": "code",
        "outputId": "35696d80-c48a-4b0c-c355-291f5f4538de",
        "colab": {
          "base_uri": "https://localhost:8080/",
          "height": 204
        }
      },
      "source": [
        "KOSPI_data.tail()"
      ],
      "execution_count": 10,
      "outputs": [
        {
          "output_type": "execute_result",
          "data": {
            "text/html": [
              "<div>\n",
              "<style scoped>\n",
              "    .dataframe tbody tr th:only-of-type {\n",
              "        vertical-align: middle;\n",
              "    }\n",
              "\n",
              "    .dataframe tbody tr th {\n",
              "        vertical-align: top;\n",
              "    }\n",
              "\n",
              "    .dataframe thead th {\n",
              "        text-align: right;\n",
              "    }\n",
              "</style>\n",
              "<table border=\"1\" class=\"dataframe\">\n",
              "  <thead>\n",
              "    <tr style=\"text-align: right;\">\n",
              "      <th></th>\n",
              "      <th>code</th>\n",
              "      <th>name</th>\n",
              "      <th>forecast</th>\n",
              "    </tr>\n",
              "  </thead>\n",
              "  <tbody>\n",
              "    <tr>\n",
              "      <th>795</th>\n",
              "      <td>004920</td>\n",
              "      <td>씨아이테크</td>\n",
              "      <td>매도지속</td>\n",
              "    </tr>\n",
              "    <tr>\n",
              "      <th>796</th>\n",
              "      <td>204210</td>\n",
              "      <td>모두투어리츠</td>\n",
              "      <td>시장관망</td>\n",
              "    </tr>\n",
              "    <tr>\n",
              "      <th>797</th>\n",
              "      <td>004365</td>\n",
              "      <td>세방우</td>\n",
              "      <td>매도지속</td>\n",
              "    </tr>\n",
              "    <tr>\n",
              "      <th>798</th>\n",
              "      <td>012600</td>\n",
              "      <td>청호컴넷</td>\n",
              "      <td>매도지속</td>\n",
              "    </tr>\n",
              "    <tr>\n",
              "      <th>799</th>\n",
              "      <td>002355</td>\n",
              "      <td>넥센타이어1우B</td>\n",
              "      <td>시장관망</td>\n",
              "    </tr>\n",
              "  </tbody>\n",
              "</table>\n",
              "</div>"
            ],
            "text/plain": [
              "       code      name forecast\n",
              "795  004920     씨아이테크     매도지속\n",
              "796  204210    모두투어리츠     시장관망\n",
              "797  004365       세방우     매도지속\n",
              "798  012600      청호컴넷     매도지속\n",
              "799  002355  넥센타이어1우B     시장관망"
            ]
          },
          "metadata": {
            "tags": []
          },
          "execution_count": 10
        }
      ]
    },
    {
      "cell_type": "code",
      "metadata": {
        "id": "XglsB-RpR1_C",
        "colab_type": "code",
        "colab": {}
      },
      "source": [
        "custom_header = {\n",
        "    'referer' : 'http://market.iriminds.com/popup/usermarketmap',\n",
        "    'user-agent' : 'Mozilla/5.0 (Windows NT 10.0; Win64; x64) AppleWebKit/537.36 (KHTML, like Gecko) Chrome/78.0.3904.108 Safari/537.36'  }\n",
        "\n",
        "base_ur3 = \"http://market.iriminds.com/api/v1/marketmap/KOSDAQ\"\n",
        "base_ur4 = \"http://market.iriminds.com/api/v1/marketmap/KOSDAQ?skip={}\""
      ],
      "execution_count": 0,
      "outputs": []
    },
    {
      "cell_type": "code",
      "metadata": {
        "id": "3EdESWyIR6Wk",
        "colab_type": "code",
        "colab": {}
      },
      "source": [
        "KOSDAQ_list=[]\n",
        "\n",
        "for n in range (8):\n",
        "    if n == 0 :\n",
        "        url= base_ur3\n",
        "        req = requests.get(url, headers = custom_header)\n",
        "        data = json.loads(req.text)\n",
        "        df = pd.DataFrame.from_dict(data, orient='columns')\n",
        "        list1=df['signal'].tolist()\n",
        "        df2 = pd.DataFrame.from_dict(list1, orient='columns')\n",
        "        new_df=pd.concat([df,df2], axis=1)\n",
        "        code_data=new_df.loc[:, ['code','name','forecast']]\n",
        "        KOSDAQ_list.append(code_data)\n",
        "        \n",
        "        \n",
        "        \n",
        "    else:    \n",
        "        url = base_ur4.format(100*n)\n",
        "        req = requests.get(url, headers = custom_header)\n",
        "        data = json.loads(req.text)\n",
        "        df = pd.DataFrame.from_dict(data, orient='columns')\n",
        "        list1=df['signal'].tolist()\n",
        "        df2 = pd.DataFrame.from_dict(list1, orient='columns')\n",
        "        new_df=pd.concat([df,df2], axis=1)\n",
        "        code_data=new_df.loc[:, ['code','name','forecast']]\n",
        "        KOSDAQ_list.append(code_data)\n",
        "\n",
        "KOSDAQ_data = pd.concat(KOSDAQ_list)\n",
        "KOSDAQ_data = KOSDAQ_data.reset_index(drop=True)"
      ],
      "execution_count": 0,
      "outputs": []
    },
    {
      "cell_type": "code",
      "metadata": {
        "id": "pb0nF9mZSBK9",
        "colab_type": "code",
        "outputId": "5a48b841-bda1-46d3-c565-5c0bcde7bb71",
        "colab": {
          "base_uri": "https://localhost:8080/",
          "height": 204
        }
      },
      "source": [
        "KOSDAQ_data.tail()"
      ],
      "execution_count": 13,
      "outputs": [
        {
          "output_type": "execute_result",
          "data": {
            "text/html": [
              "<div>\n",
              "<style scoped>\n",
              "    .dataframe tbody tr th:only-of-type {\n",
              "        vertical-align: middle;\n",
              "    }\n",
              "\n",
              "    .dataframe tbody tr th {\n",
              "        vertical-align: top;\n",
              "    }\n",
              "\n",
              "    .dataframe thead th {\n",
              "        text-align: right;\n",
              "    }\n",
              "</style>\n",
              "<table border=\"1\" class=\"dataframe\">\n",
              "  <thead>\n",
              "    <tr style=\"text-align: right;\">\n",
              "      <th></th>\n",
              "      <th>code</th>\n",
              "      <th>name</th>\n",
              "      <th>forecast</th>\n",
              "    </tr>\n",
              "  </thead>\n",
              "  <tbody>\n",
              "    <tr>\n",
              "      <th>795</th>\n",
              "      <td>036690</td>\n",
              "      <td>코맥스</td>\n",
              "      <td>매도지속</td>\n",
              "    </tr>\n",
              "    <tr>\n",
              "      <th>796</th>\n",
              "      <td>073540</td>\n",
              "      <td>에프알텍</td>\n",
              "      <td>매수지속</td>\n",
              "    </tr>\n",
              "    <tr>\n",
              "      <th>797</th>\n",
              "      <td>097870</td>\n",
              "      <td>효성오앤비</td>\n",
              "      <td>매수지속</td>\n",
              "    </tr>\n",
              "    <tr>\n",
              "      <th>798</th>\n",
              "      <td>037230</td>\n",
              "      <td>한국팩키지</td>\n",
              "      <td>시장관망</td>\n",
              "    </tr>\n",
              "    <tr>\n",
              "      <th>799</th>\n",
              "      <td>016670</td>\n",
              "      <td>포비스티앤씨</td>\n",
              "      <td>매도지속</td>\n",
              "    </tr>\n",
              "  </tbody>\n",
              "</table>\n",
              "</div>"
            ],
            "text/plain": [
              "       code    name forecast\n",
              "795  036690     코맥스     매도지속\n",
              "796  073540    에프알텍     매수지속\n",
              "797  097870   효성오앤비     매수지속\n",
              "798  037230   한국팩키지     시장관망\n",
              "799  016670  포비스티앤씨     매도지속"
            ]
          },
          "metadata": {
            "tags": []
          },
          "execution_count": 13
        }
      ]
    },
    {
      "cell_type": "code",
      "metadata": {
        "id": "mBYOknV-SEnT",
        "colab_type": "code",
        "colab": {}
      },
      "source": [
        "custom_header = {\n",
        "    'referer' : 'http://market.iriminds.com/popup/usermarketmap',\n",
        "    'user-agent' : 'Mozilla/5.0 (Windows NT 10.0; Win64; x64) AppleWebKit/537.36 (KHTML, like Gecko) Chrome/78.0.3904.108 Safari/537.36'  }\n",
        "\n",
        "base_ur5 = \"http://market.iriminds.com/api/v1/marketmap/ETF\"\n",
        "base_ur6 = \"http://market.iriminds.com/api/v1/marketmap/ETF?skip={}\""
      ],
      "execution_count": 0,
      "outputs": []
    },
    {
      "cell_type": "code",
      "metadata": {
        "id": "v_idUSUSSHTu",
        "colab_type": "code",
        "colab": {}
      },
      "source": [
        "ETF_list=[]\n",
        "\n",
        "for n in range (4):\n",
        "    if n == 0 :\n",
        "        url= base_ur5\n",
        "        req = requests.get(url, headers = custom_header)\n",
        "        data = json.loads(req.text)\n",
        "        df = pd.DataFrame.from_dict(data, orient='columns')\n",
        "        list1=df['signal'].tolist()\n",
        "        df2 = pd.DataFrame.from_dict(list1, orient='columns')\n",
        "        new_df=pd.concat([df,df2], axis=1)\n",
        "        code_data=new_df.loc[:, ['code','name','forecast']]\n",
        "        ETF_list.append(code_data)\n",
        "        \n",
        "        \n",
        "        \n",
        "    else:    \n",
        "        url = base_ur6.format(100*n)\n",
        "        req = requests.get(url, headers = custom_header)\n",
        "        data = json.loads(req.text)\n",
        "        df = pd.DataFrame.from_dict(data, orient='columns')\n",
        "        list1=df['signal'].tolist()\n",
        "        df2 = pd.DataFrame.from_dict(list1, orient='columns')\n",
        "        new_df=pd.concat([df,df2], axis=1)\n",
        "        code_data=new_df.loc[:, ['code','name','forecast']]\n",
        "        ETF_list.append(code_data)\n",
        "\n",
        "ETF_data = pd.concat(ETF_list)\n",
        "ETF_data = ETF_data.reset_index(drop=True)"
      ],
      "execution_count": 0,
      "outputs": []
    },
    {
      "cell_type": "code",
      "metadata": {
        "id": "Oz9As5j1SKgc",
        "colab_type": "code",
        "outputId": "f70ab17c-a2af-4f26-9309-055d5cd9e6a8",
        "colab": {
          "base_uri": "https://localhost:8080/",
          "height": 204
        }
      },
      "source": [
        "ETF_data.tail()"
      ],
      "execution_count": 16,
      "outputs": [
        {
          "output_type": "execute_result",
          "data": {
            "text/html": [
              "<div>\n",
              "<style scoped>\n",
              "    .dataframe tbody tr th:only-of-type {\n",
              "        vertical-align: middle;\n",
              "    }\n",
              "\n",
              "    .dataframe tbody tr th {\n",
              "        vertical-align: top;\n",
              "    }\n",
              "\n",
              "    .dataframe thead th {\n",
              "        text-align: right;\n",
              "    }\n",
              "</style>\n",
              "<table border=\"1\" class=\"dataframe\">\n",
              "  <thead>\n",
              "    <tr style=\"text-align: right;\">\n",
              "      <th></th>\n",
              "      <th>code</th>\n",
              "      <th>name</th>\n",
              "      <th>forecast</th>\n",
              "    </tr>\n",
              "  </thead>\n",
              "  <tbody>\n",
              "    <tr>\n",
              "      <th>395</th>\n",
              "      <td>300640</td>\n",
              "      <td>KBSTAR 게임테마</td>\n",
              "      <td>시장관망</td>\n",
              "    </tr>\n",
              "    <tr>\n",
              "      <th>396</th>\n",
              "      <td>291610</td>\n",
              "      <td>KOSEF 코스닥150선물</td>\n",
              "      <td>매도지속</td>\n",
              "    </tr>\n",
              "    <tr>\n",
              "      <th>397</th>\n",
              "      <td>300310</td>\n",
              "      <td>KBSTAR KQ모멘텀밸류</td>\n",
              "      <td>매수지속</td>\n",
              "    </tr>\n",
              "    <tr>\n",
              "      <th>398</th>\n",
              "      <td>300300</td>\n",
              "      <td>KBSTAR KQ모멘텀로우볼</td>\n",
              "      <td>매수지속</td>\n",
              "    </tr>\n",
              "    <tr>\n",
              "      <th>399</th>\n",
              "      <td>300290</td>\n",
              "      <td>KBSTAR 중소형모멘텀밸류</td>\n",
              "      <td>매수지속</td>\n",
              "    </tr>\n",
              "  </tbody>\n",
              "</table>\n",
              "</div>"
            ],
            "text/plain": [
              "       code             name forecast\n",
              "395  300640      KBSTAR 게임테마     시장관망\n",
              "396  291610   KOSEF 코스닥150선물     매도지속\n",
              "397  300310   KBSTAR KQ모멘텀밸류     매수지속\n",
              "398  300300  KBSTAR KQ모멘텀로우볼     매수지속\n",
              "399  300290  KBSTAR 중소형모멘텀밸류     매수지속"
            ]
          },
          "metadata": {
            "tags": []
          },
          "execution_count": 16
        }
      ]
    },
    {
      "cell_type": "code",
      "metadata": {
        "id": "NWS390cZSUTX",
        "colab_type": "code",
        "outputId": "926dd6ac-4c2f-4709-efbe-62a7607d79d0",
        "colab": {
          "base_uri": "https://localhost:8080/",
          "height": 204
        }
      },
      "source": [
        "stock_list = pd.concat([KOSDAQ_data,KOSPI_data], ignore_index=True)\n",
        "stock_list.reset_index(drop=True)\n",
        "stock_list.tail()"
      ],
      "execution_count": 17,
      "outputs": [
        {
          "output_type": "execute_result",
          "data": {
            "text/html": [
              "<div>\n",
              "<style scoped>\n",
              "    .dataframe tbody tr th:only-of-type {\n",
              "        vertical-align: middle;\n",
              "    }\n",
              "\n",
              "    .dataframe tbody tr th {\n",
              "        vertical-align: top;\n",
              "    }\n",
              "\n",
              "    .dataframe thead th {\n",
              "        text-align: right;\n",
              "    }\n",
              "</style>\n",
              "<table border=\"1\" class=\"dataframe\">\n",
              "  <thead>\n",
              "    <tr style=\"text-align: right;\">\n",
              "      <th></th>\n",
              "      <th>code</th>\n",
              "      <th>name</th>\n",
              "      <th>forecast</th>\n",
              "    </tr>\n",
              "  </thead>\n",
              "  <tbody>\n",
              "    <tr>\n",
              "      <th>1595</th>\n",
              "      <td>004920</td>\n",
              "      <td>씨아이테크</td>\n",
              "      <td>매도지속</td>\n",
              "    </tr>\n",
              "    <tr>\n",
              "      <th>1596</th>\n",
              "      <td>204210</td>\n",
              "      <td>모두투어리츠</td>\n",
              "      <td>시장관망</td>\n",
              "    </tr>\n",
              "    <tr>\n",
              "      <th>1597</th>\n",
              "      <td>004365</td>\n",
              "      <td>세방우</td>\n",
              "      <td>매도지속</td>\n",
              "    </tr>\n",
              "    <tr>\n",
              "      <th>1598</th>\n",
              "      <td>012600</td>\n",
              "      <td>청호컴넷</td>\n",
              "      <td>매도지속</td>\n",
              "    </tr>\n",
              "    <tr>\n",
              "      <th>1599</th>\n",
              "      <td>002355</td>\n",
              "      <td>넥센타이어1우B</td>\n",
              "      <td>시장관망</td>\n",
              "    </tr>\n",
              "  </tbody>\n",
              "</table>\n",
              "</div>"
            ],
            "text/plain": [
              "        code      name forecast\n",
              "1595  004920     씨아이테크     매도지속\n",
              "1596  204210    모두투어리츠     시장관망\n",
              "1597  004365       세방우     매도지속\n",
              "1598  012600      청호컴넷     매도지속\n",
              "1599  002355  넥센타이어1우B     시장관망"
            ]
          },
          "metadata": {
            "tags": []
          },
          "execution_count": 17
        }
      ]
    },
    {
      "cell_type": "code",
      "metadata": {
        "id": "NEXXAnFLSY_0",
        "colab_type": "code",
        "outputId": "7c767e9a-f589-4969-d964-960a366e45ad",
        "colab": {
          "base_uri": "https://localhost:8080/",
          "height": 222
        }
      },
      "source": [
        "stock_buy_list=stock_list[stock_list['forecast']==\"매수대기\"]\n",
        "stock_buy_list=stock_buy_list[::-1].reset_index(drop=True)\n",
        "print(len(stock_buy_list))\n",
        "stock_buy_list.tail()"
      ],
      "execution_count": 18,
      "outputs": [
        {
          "output_type": "stream",
          "text": [
            "53\n"
          ],
          "name": "stdout"
        },
        {
          "output_type": "execute_result",
          "data": {
            "text/html": [
              "<div>\n",
              "<style scoped>\n",
              "    .dataframe tbody tr th:only-of-type {\n",
              "        vertical-align: middle;\n",
              "    }\n",
              "\n",
              "    .dataframe tbody tr th {\n",
              "        vertical-align: top;\n",
              "    }\n",
              "\n",
              "    .dataframe thead th {\n",
              "        text-align: right;\n",
              "    }\n",
              "</style>\n",
              "<table border=\"1\" class=\"dataframe\">\n",
              "  <thead>\n",
              "    <tr style=\"text-align: right;\">\n",
              "      <th></th>\n",
              "      <th>code</th>\n",
              "      <th>name</th>\n",
              "      <th>forecast</th>\n",
              "    </tr>\n",
              "  </thead>\n",
              "  <tbody>\n",
              "    <tr>\n",
              "      <th>48</th>\n",
              "      <td>042000</td>\n",
              "      <td>카페24</td>\n",
              "      <td>매수대기</td>\n",
              "    </tr>\n",
              "    <tr>\n",
              "      <th>49</th>\n",
              "      <td>200230</td>\n",
              "      <td>텔콘RF제약</td>\n",
              "      <td>매수대기</td>\n",
              "    </tr>\n",
              "    <tr>\n",
              "      <th>50</th>\n",
              "      <td>067630</td>\n",
              "      <td>에이치엘비생명과학</td>\n",
              "      <td>매수대기</td>\n",
              "    </tr>\n",
              "    <tr>\n",
              "      <th>51</th>\n",
              "      <td>253450</td>\n",
              "      <td>스튜디오드래곤</td>\n",
              "      <td>매수대기</td>\n",
              "    </tr>\n",
              "    <tr>\n",
              "      <th>52</th>\n",
              "      <td>028300</td>\n",
              "      <td>에이치엘비</td>\n",
              "      <td>매수대기</td>\n",
              "    </tr>\n",
              "  </tbody>\n",
              "</table>\n",
              "</div>"
            ],
            "text/plain": [
              "      code       name forecast\n",
              "48  042000       카페24     매수대기\n",
              "49  200230     텔콘RF제약     매수대기\n",
              "50  067630  에이치엘비생명과학     매수대기\n",
              "51  253450    스튜디오드래곤     매수대기\n",
              "52  028300      에이치엘비     매수대기"
            ]
          },
          "metadata": {
            "tags": []
          },
          "execution_count": 18
        }
      ]
    },
    {
      "cell_type": "code",
      "metadata": {
        "id": "Z7Z2pNTiSjeU",
        "colab_type": "code",
        "colab": {}
      },
      "source": [
        "# Stock tickers with related company name\n",
        "with open(\"/content/gdrive/My Drive/data/tickers.pkl\", 'wb') as fp:\n",
        "    pickle.dump(stock_buy_list, fp)"
      ],
      "execution_count": 0,
      "outputs": []
    },
    {
      "cell_type": "code",
      "metadata": {
        "id": "F1U4tLI7URjL",
        "colab_type": "code",
        "colab": {}
      },
      "source": [
        ""
      ],
      "execution_count": 0,
      "outputs": []
    },
    {
      "cell_type": "code",
      "metadata": {
        "id": "GSbX2pwsUbil",
        "colab_type": "code",
        "colab": {}
      },
      "source": [
        ""
      ],
      "execution_count": 0,
      "outputs": []
    }
  ]
}